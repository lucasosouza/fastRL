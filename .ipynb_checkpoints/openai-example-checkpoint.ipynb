{
 "cells": [
  {
   "cell_type": "code",
   "execution_count": 222,
   "metadata": {
    "collapsed": true
   },
   "outputs": [],
   "source": [
    "import gym\n",
    "import numpy as np\n",
    "import matplotlib.pyplot as plt\n",
    "from pprint import pprint\n",
    "import pandas as pd\n",
    "\n",
    "plt.figure(figsize=(20,10))\n",
    "\n",
    "%matplotlib inline"
   ]
  },
  {
   "cell_type": "code",
   "execution_count": 94,
   "metadata": {
    "collapsed": false
   },
   "outputs": [
    {
     "name": "stdout",
     "output_type": "stream",
     "text": [
      "dict_values([EnvSpec(CarnivalDeterministic-v4), EnvSpec(SpaceInvaders-v4), EnvSpec(BattleZone-ramDeterministic-v0), EnvSpec(MountainCarContinuous-v0), EnvSpec(PongDeterministic-v4), EnvSpec(Kangaroo-v4), EnvSpec(PhoenixNoFrameskip-v4), EnvSpec(StarGunnerNoFrameskip-v4), EnvSpec(CarnivalNoFrameskip-v4), EnvSpec(Jamesbond-ramDeterministic-v4), EnvSpec(Atlantis-ramDeterministic-v0), EnvSpec(Robotank-ramNoFrameskip-v4), EnvSpec(Acrobot-v1), EnvSpec(Centipede-v4), EnvSpec(NameThisGame-ram-v4), EnvSpec(IceHockeyDeterministic-v0), EnvSpec(PrivateEye-v4), EnvSpec(Riverraid-ram-v4), EnvSpec(Atlantis-ramDeterministic-v4), EnvSpec(Riverraid-ramDeterministic-v4), EnvSpec(CarRacing-v0), EnvSpec(CrazyClimberDeterministic-v0), EnvSpec(FishingDerbyNoFrameskip-v0), EnvSpec(Pooyan-ramDeterministic-v4), EnvSpec(Amidar-v0), EnvSpec(Carnival-ramNoFrameskip-v4), EnvSpec(Amidar-ram-v0), EnvSpec(Hero-ramNoFrameskip-v4), EnvSpec(Jamesbond-ram-v4), EnvSpec(ZaxxonDeterministic-v0), EnvSpec(Atlantis-ram-v4), EnvSpec(DoubleDunk-v4), EnvSpec(Zaxxon-ram-v0), EnvSpec(FishingDerby-ramNoFrameskip-v0), EnvSpec(Gopher-ramDeterministic-v4), EnvSpec(PooyanNoFrameskip-v4), EnvSpec(MsPacmanNoFrameskip-v0), EnvSpec(FishingDerbyNoFrameskip-v4), EnvSpec(PooyanNoFrameskip-v0), EnvSpec(NameThisGame-v0), EnvSpec(TimePilotNoFrameskip-v0), EnvSpec(AsterixDeterministic-v4), EnvSpec(VideoPinball-ramNoFrameskip-v0), EnvSpec(DemonAttack-ram-v0), EnvSpec(VideoPinball-ramDeterministic-v0), EnvSpec(DoubleDunkDeterministic-v0), EnvSpec(Robotank-ramDeterministic-v0), EnvSpec(AirRaid-ramDeterministic-v4), EnvSpec(Breakout-v4), EnvSpec(BreakoutDeterministic-v0), EnvSpec(VideoPinball-ramDeterministic-v4), EnvSpec(BattleZoneNoFrameskip-v0), EnvSpec(MontezumaRevenge-ramDeterministic-v0), EnvSpec(StarGunner-ram-v0), EnvSpec(Zaxxon-v4), EnvSpec(BerzerkNoFrameskip-v4), EnvSpec(Freeway-ramDeterministic-v4), EnvSpec(RiverraidNoFrameskip-v0), EnvSpec(Boxing-v0), EnvSpec(Freeway-v4), EnvSpec(Asterix-v4), EnvSpec(PrivateEyeDeterministic-v0), EnvSpec(AlienNoFrameskip-v0), EnvSpec(UpNDown-ram-v0), EnvSpec(KellyCoinflip-v0), EnvSpec(Carnival-ramDeterministic-v0), EnvSpec(PrivateEyeDeterministic-v4), EnvSpec(UpNDownDeterministic-v0), EnvSpec(Carnival-ram-v0), EnvSpec(WizardOfWor-ram-v4), EnvSpec(AirRaid-ramNoFrameskip-v0), EnvSpec(PitfallDeterministic-v4), EnvSpec(Assault-v0), EnvSpec(SkiingNoFrameskip-v4), EnvSpec(JourneyEscapeDeterministic-v4), EnvSpec(DoubleDunk-ramNoFrameskip-v0), EnvSpec(Hopper-v1), EnvSpec(JourneyEscape-ramNoFrameskip-v0), EnvSpec(Jamesbond-v4), EnvSpec(NameThisGameDeterministic-v0), EnvSpec(RoadRunner-ramNoFrameskip-v0), EnvSpec(CrazyClimber-ramNoFrameskip-v0), EnvSpec(DemonAttack-ramDeterministic-v4), EnvSpec(Bowling-ramNoFrameskip-v0), EnvSpec(AsterixNoFrameskip-v4), EnvSpec(Breakout-ram-v0), EnvSpec(Tutankham-ramDeterministic-v4), EnvSpec(SemisuperPendulumRandom-v0), EnvSpec(Kangaroo-ramNoFrameskip-v4), EnvSpec(PongNoFrameskip-v4), EnvSpec(AirRaid-ram-v4), EnvSpec(TutankhamDeterministic-v0), EnvSpec(Skiing-ramDeterministic-v0), EnvSpec(Venture-ram-v0), EnvSpec(PitfallNoFrameskip-v0), EnvSpec(HotterColder-v0), EnvSpec(MsPacmanNoFrameskip-v4), EnvSpec(UpNDown-ram-v4), EnvSpec(AirRaidDeterministic-v0), EnvSpec(SkiingDeterministic-v4), EnvSpec(Assault-ramDeterministic-v0), EnvSpec(YarsRevenge-ramNoFrameskip-v4), EnvSpec(DoubleDunkNoFrameskip-v4), EnvSpec(BeamRider-ramNoFrameskip-v0), EnvSpec(Freeway-ramNoFrameskip-v0), EnvSpec(PrivateEyeNoFrameskip-v4), EnvSpec(Pooyan-ramDeterministic-v0), EnvSpec(Asteroids-ramNoFrameskip-v4), EnvSpec(BeamRider-ramNoFrameskip-v4), EnvSpec(UpNDown-ramNoFrameskip-v4), EnvSpec(JamesbondNoFrameskip-v4), EnvSpec(MontezumaRevengeNoFrameskip-v4), EnvSpec(AlienDeterministic-v4), EnvSpec(JourneyEscape-ramNoFrameskip-v4), EnvSpec(KungFuMasterNoFrameskip-v0), EnvSpec(Skiing-ram-v0), EnvSpec(Skiing-ramNoFrameskip-v0), EnvSpec(WizardOfWor-ramDeterministic-v0), EnvSpec(Pitfall-v4), EnvSpec(Pong-ram-v4), EnvSpec(AssaultNoFrameskip-v0), EnvSpec(Zaxxon-ramNoFrameskip-v0), EnvSpec(Bowling-v4), EnvSpec(ChopperCommand-ram-v4), EnvSpec(Tennis-ramNoFrameskip-v4), EnvSpec(Kangaroo-ramNoFrameskip-v0), EnvSpec(VideoPinballNoFrameskip-v0), EnvSpec(Frostbite-v4), EnvSpec(MsPacman-ramNoFrameskip-v4), EnvSpec(BankHeist-ram-v4), EnvSpec(GopherDeterministic-v4), EnvSpec(BattleZone-v0), EnvSpec(KungFuMaster-ramDeterministic-v4), EnvSpec(TennisNoFrameskip-v4), EnvSpec(SemisuperPendulumNoise-v0), EnvSpec(Robotank-v0), EnvSpec(KungFuMaster-v4), EnvSpec(CarnivalNoFrameskip-v0), EnvSpec(CrazyClimber-ramNoFrameskip-v4), EnvSpec(AsteroidsDeterministic-v0), EnvSpec(Asterix-ram-v0), EnvSpec(Tennis-ramDeterministic-v4), EnvSpec(RoadRunner-ramNoFrameskip-v4), EnvSpec(Freeway-v0), EnvSpec(BankHeist-v4), EnvSpec(Qbert-ramDeterministic-v4), EnvSpec(CartPole-v1), EnvSpec(VideoPinballDeterministic-v4), EnvSpec(ChopperCommand-ramDeterministic-v4), EnvSpec(HalfCheetah-v1), EnvSpec(AirRaidNoFrameskip-v0), EnvSpec(TimePilotDeterministic-v4), EnvSpec(GravitarNoFrameskip-v0), EnvSpec(Frostbite-ram-v4), EnvSpec(Phoenix-ram-v0), EnvSpec(RoadRunnerDeterministic-v0), EnvSpec(Riverraid-ram-v0), EnvSpec(Gravitar-ramNoFrameskip-v0), EnvSpec(Breakout-v0), EnvSpec(KangarooNoFrameskip-v4), EnvSpec(Berzerk-v0), EnvSpec(SpaceInvaders-v0), EnvSpec(TimePilot-ramNoFrameskip-v4), EnvSpec(AirRaidDeterministic-v4), EnvSpec(TimePilot-ram-v0), EnvSpec(Asteroids-ramDeterministic-v0), EnvSpec(Venture-v4), EnvSpec(Bowling-ramDeterministic-v0), EnvSpec(GopherDeterministic-v0), EnvSpec(MsPacman-ram-v0), EnvSpec(Tutankham-ramNoFrameskip-v4), EnvSpec(Gopher-ramNoFrameskip-v0), EnvSpec(AtlantisNoFrameskip-v4), EnvSpec(Frostbite-ramDeterministic-v0), EnvSpec(IceHockey-ram-v0), EnvSpec(Asterix-ramDeterministic-v4), EnvSpec(Gopher-ramNoFrameskip-v4), EnvSpec(RobotankDeterministic-v0), EnvSpec(BeamRiderNoFrameskip-v0), EnvSpec(JourneyEscape-ramDeterministic-v0), EnvSpec(Solaris-ram-v4), EnvSpec(Krull-ramDeterministic-v4), EnvSpec(FrostbiteNoFrameskip-v4), EnvSpec(ChopperCommandDeterministic-v4), EnvSpec(Jamesbond-ramNoFrameskip-v4), EnvSpec(ElevatorActionDeterministic-v4), EnvSpec(Frostbite-ramNoFrameskip-v0), EnvSpec(EnduroDeterministic-v0), EnvSpec(Berzerk-ramNoFrameskip-v4), EnvSpec(Jamesbond-v0), EnvSpec(PhoenixDeterministic-v4), EnvSpec(Striker-v0), EnvSpec(Krull-v4), EnvSpec(SpaceInvaders-ram-v4), EnvSpec(BattleZone-ramDeterministic-v4), EnvSpec(Hero-ramNoFrameskip-v0), EnvSpec(SolarisNoFrameskip-v0), EnvSpec(IceHockey-ramDeterministic-v4), EnvSpec(Tennis-ram-v4), EnvSpec(ChopperCommandDeterministic-v0), EnvSpec(SpaceInvaders-ramDeterministic-v0), EnvSpec(Riverraid-v4), EnvSpec(AtlantisDeterministic-v0), EnvSpec(Hero-ramDeterministic-v4), EnvSpec(Krull-v0), EnvSpec(Venture-ramNoFrameskip-v4), EnvSpec(WizardOfWor-ramNoFrameskip-v0), EnvSpec(RiverraidNoFrameskip-v4), EnvSpec(ZaxxonNoFrameskip-v4), EnvSpec(BeamRider-ramDeterministic-v0), EnvSpec(Gopher-v4), EnvSpec(KangarooDeterministic-v0), EnvSpec(BattleZone-ram-v0), EnvSpec(SeaquestNoFrameskip-v0), EnvSpec(CrazyClimberNoFrameskip-v4), EnvSpec(DoubleDunkDeterministic-v4), EnvSpec(Gravitar-ramNoFrameskip-v4), EnvSpec(ChopperCommandNoFrameskip-v4), EnvSpec(ConvergenceControl-v0), EnvSpec(PongDeterministic-v0), EnvSpec(QbertDeterministic-v0), EnvSpec(BowlingDeterministic-v0), EnvSpec(RoadRunner-ramDeterministic-v4), EnvSpec(DoubleDunk-ramNoFrameskip-v4), EnvSpec(InvertedPendulum-v1), EnvSpec(Krull-ramDeterministic-v0), EnvSpec(Venture-ramDeterministic-v0), EnvSpec(Robotank-ram-v0), EnvSpec(MsPacman-v0), EnvSpec(WizardOfWor-v4), EnvSpec(Pitfall-ramNoFrameskip-v4), EnvSpec(WizardOfWor-ramNoFrameskip-v4), EnvSpec(Kangaroo-ramDeterministic-v0), EnvSpec(MontezumaRevengeDeterministic-v0), EnvSpec(NameThisGame-ramNoFrameskip-v4), EnvSpec(WizardOfWorNoFrameskip-v4), EnvSpec(MsPacmanDeterministic-v4), EnvSpec(RepeatCopy-v0), EnvSpec(CrazyClimberNoFrameskip-v0), EnvSpec(RoadRunner-v0), EnvSpec(PooyanDeterministic-v4), EnvSpec(Zaxxon-ramDeterministic-v0), EnvSpec(GuessingGame-v0), EnvSpec(PrivateEye-ram-v4), EnvSpec(Solaris-v4), EnvSpec(JourneyEscape-ram-v0), EnvSpec(IceHockey-ram-v4), EnvSpec(Pong-ramNoFrameskip-v4), EnvSpec(TimePilot-v4), EnvSpec(Zaxxon-ramDeterministic-v4), EnvSpec(Pong-v0), EnvSpec(Gopher-ram-v4), EnvSpec(MontezumaRevengeNoFrameskip-v0), EnvSpec(Assault-v4), EnvSpec(Alien-v4), EnvSpec(MontezumaRevenge-ram-v0), EnvSpec(Seaquest-ramNoFrameskip-v4), EnvSpec(Qbert-v0), EnvSpec(Asterix-ramNoFrameskip-v4), EnvSpec(Qbert-ram-v4), EnvSpec(BankHeistDeterministic-v0), EnvSpec(Atlantis-v4), EnvSpec(Breakout-ramDeterministic-v0), EnvSpec(BankHeistDeterministic-v4), EnvSpec(Berzerk-ramNoFrameskip-v0), EnvSpec(Gravitar-ramDeterministic-v4), EnvSpec(BoxingDeterministic-v4), EnvSpec(Carnival-v4), EnvSpec(StarGunner-ramDeterministic-v0), EnvSpec(Breakout-ramDeterministic-v4), EnvSpec(SpaceInvadersNoFrameskip-v0), EnvSpec(RobotankNoFrameskip-v0), EnvSpec(DemonAttack-v0), EnvSpec(PitfallDeterministic-v0), EnvSpec(SeaquestDeterministic-v4), EnvSpec(Pong-ramDeterministic-v0), EnvSpec(Solaris-v0), EnvSpec(Centipede-ram-v4), EnvSpec(YarsRevenge-ramDeterministic-v4), EnvSpec(Asteroids-ramNoFrameskip-v0), EnvSpec(Thrower-v0), EnvSpec(FishingDerby-ram-v0), EnvSpec(Solaris-ram-v0), EnvSpec(AirRaid-v0), EnvSpec(ReversedAddition3-v0), EnvSpec(Zaxxon-v0), EnvSpec(Qbert-ramNoFrameskip-v0), EnvSpec(ElevatorActionNoFrameskip-v4), EnvSpec(DoubleDunk-v0), EnvSpec(Enduro-v0), EnvSpec(Taxi-v2), EnvSpec(TimePilot-ramNoFrameskip-v0), EnvSpec(TutankhamDeterministic-v4), EnvSpec(Bowling-ram-v0), EnvSpec(Kangaroo-ram-v0), EnvSpec(BreakoutNoFrameskip-v4), EnvSpec(Atlantis-ram-v0), EnvSpec(FreewayDeterministic-v4), EnvSpec(OffSwitchCartpoleProb-v0), EnvSpec(Bowling-v0), EnvSpec(BattleZone-ramNoFrameskip-v4), EnvSpec(FishingDerby-ramNoFrameskip-v4), EnvSpec(SeaquestDeterministic-v0), EnvSpec(AmidarNoFrameskip-v4), EnvSpec(Enduro-v4), EnvSpec(FreewayNoFrameskip-v0), EnvSpec(Hero-ram-v0), EnvSpec(Enduro-ram-v0), EnvSpec(MontezumaRevenge-ramNoFrameskip-v4), EnvSpec(Phoenix-ramDeterministic-v4), EnvSpec(KrullNoFrameskip-v0), EnvSpec(Boxing-ram-v0), EnvSpec(JamesbondDeterministic-v0), EnvSpec(Boxing-ramNoFrameskip-v4), EnvSpec(UpNDownNoFrameskip-v4), EnvSpec(VideoPinball-v0), EnvSpec(Gopher-v0), EnvSpec(KangarooDeterministic-v4), EnvSpec(Atlantis-ramNoFrameskip-v4), EnvSpec(HeroDeterministic-v0), EnvSpec(Krull-ram-v0), EnvSpec(SolarisNoFrameskip-v4), EnvSpec(Jamesbond-ramNoFrameskip-v0), EnvSpec(IceHockeyNoFrameskip-v4), EnvSpec(Humanoid-v1), EnvSpec(Kangaroo-ramDeterministic-v4), EnvSpec(AirRaid-ram-v0), EnvSpec(RoadRunner-ram-v0), EnvSpec(FrostbiteNoFrameskip-v0), EnvSpec(PrivateEye-ramNoFrameskip-v4), EnvSpec(VentureDeterministic-v0), EnvSpec(Seaquest-v4), EnvSpec(TutankhamNoFrameskip-v0), EnvSpec(Freeway-ramDeterministic-v0), EnvSpec(DuplicatedInput-v0), EnvSpec(ElevatorAction-ram-v0), EnvSpec(CliffWalking-v0), EnvSpec(DoubleDunkNoFrameskip-v0), EnvSpec(Centipede-ramNoFrameskip-v0), EnvSpec(IceHockey-v0), EnvSpec(Hero-v4), EnvSpec(Copy-v0), EnvSpec(JourneyEscape-v0), EnvSpec(Pusher-v0), EnvSpec(Berzerk-ram-v4), EnvSpec(SkiingDeterministic-v0), EnvSpec(JamesbondNoFrameskip-v0), EnvSpec(PrivateEye-ramDeterministic-v0), EnvSpec(YarsRevenge-ramDeterministic-v0), EnvSpec(Tutankham-ramNoFrameskip-v0), EnvSpec(WizardOfWor-ramDeterministic-v4), EnvSpec(TimePilot-v0), EnvSpec(Zaxxon-ramNoFrameskip-v4), EnvSpec(TutankhamNoFrameskip-v4), EnvSpec(JourneyEscapeNoFrameskip-v0), EnvSpec(Asteroids-v4), EnvSpec(DemonAttackDeterministic-v4), EnvSpec(IceHockey-ramDeterministic-v0), EnvSpec(BoxingNoFrameskip-v4), EnvSpec(ElevatorActionDeterministic-v0), EnvSpec(YarsRevenge-ram-v4), EnvSpec(Asteroids-ram-v0), EnvSpec(Pooyan-v0), EnvSpec(Skiing-ram-v4), EnvSpec(KungFuMasterDeterministic-v4), EnvSpec(SpaceInvadersDeterministic-v0), EnvSpec(MsPacman-ramDeterministic-v4), EnvSpec(KungFuMaster-ramNoFrameskip-v4), EnvSpec(Asterix-ramDeterministic-v0), EnvSpec(ChopperCommand-ramNoFrameskip-v4), EnvSpec(TwoRoundDeterministicReward-v0), EnvSpec(Frostbite-ramDeterministic-v4), EnvSpec(DemonAttackNoFrameskip-v4), EnvSpec(FrostbiteDeterministic-v0), EnvSpec(BoxingNoFrameskip-v0), EnvSpec(ElevatorAction-ramDeterministic-v4), EnvSpec(Pong-v4), EnvSpec(EnduroNoFrameskip-v4), EnvSpec(JourneyEscape-v4), EnvSpec(TimePilotDeterministic-v0), EnvSpec(OffSwitchCartpole-v0), EnvSpec(StarGunner-ramNoFrameskip-v4), EnvSpec(YarsRevenge-v0), EnvSpec(RiverraidDeterministic-v4), EnvSpec(AirRaidNoFrameskip-v4), EnvSpec(Alien-ramNoFrameskip-v0), EnvSpec(BattleZone-ram-v4), EnvSpec(TennisDeterministic-v4), EnvSpec(FishingDerby-ram-v4), EnvSpec(WizardOfWorDeterministic-v4), EnvSpec(Zaxxon-ram-v4), EnvSpec(Alien-ramNoFrameskip-v4), EnvSpec(Qbert-v4), EnvSpec(PitfallNoFrameskip-v4), EnvSpec(Venture-ram-v4), EnvSpec(AsteroidsNoFrameskip-v0), EnvSpec(EnduroDeterministic-v4), EnvSpec(VentureDeterministic-v4), EnvSpec(TwoRoundNondeterministicReward-v0), EnvSpec(DemonAttackNoFrameskip-v0), EnvSpec(SolarisDeterministic-v4), EnvSpec(Hero-ramDeterministic-v0), EnvSpec(PredictObsCartpole-v0), EnvSpec(MountainCar-v0), EnvSpec(Centipede-ram-v0), EnvSpec(Riverraid-v0), EnvSpec(Asterix-ramNoFrameskip-v0), EnvSpec(DoubleDunk-ramDeterministic-v0), EnvSpec(Qbert-ram-v0), EnvSpec(Jamesbond-ramDeterministic-v0), EnvSpec(MsPacmanDeterministic-v0), EnvSpec(MsPacman-v4), EnvSpec(LunarLanderContinuous-v2), EnvSpec(Roulette-v0), EnvSpec(Qbert-ramNoFrameskip-v4), EnvSpec(VideoPinballNoFrameskip-v4), EnvSpec(CentipedeDeterministic-v4), EnvSpec(Robotank-v4), EnvSpec(SpaceInvaders-ramNoFrameskip-v0), EnvSpec(Breakout-ramNoFrameskip-v0), EnvSpec(Seaquest-ramDeterministic-v4), EnvSpec(Pooyan-ram-v0), EnvSpec(Breakout-ram-v4), EnvSpec(BankHeistNoFrameskip-v0), EnvSpec(CrazyClimber-ramDeterministic-v4), EnvSpec(ElevatorAction-v0), EnvSpec(Venture-ramDeterministic-v4), EnvSpec(Pooyan-ramNoFrameskip-v4), EnvSpec(DemonAttack-v4), EnvSpec(AirRaid-ramNoFrameskip-v4), EnvSpec(KrullNoFrameskip-v4), EnvSpec(Pitfall-ram-v0), EnvSpec(Enduro-ramNoFrameskip-v0), EnvSpec(YarsRevenge-v4), EnvSpec(Robotank-ramNoFrameskip-v0), EnvSpec(CartPole-v0), EnvSpec(SemisuperPendulumDecay-v0), EnvSpec(FishingDerby-v4), EnvSpec(SpaceInvadersDeterministic-v4), EnvSpec(CrazyClimberDeterministic-v4), EnvSpec(ChopperCommand-ramDeterministic-v0), EnvSpec(ChopperCommand-v0), EnvSpec(RobotankNoFrameskip-v4), EnvSpec(Tutankham-ram-v0), EnvSpec(PrivateEye-v0), EnvSpec(DemonAttack-ramNoFrameskip-v0), EnvSpec(Asterix-ram-v4), EnvSpec(Solaris-ramDeterministic-v0), EnvSpec(PongNoFrameskip-v0), EnvSpec(YarsRevenge-ram-v0), EnvSpec(Gravitar-v4), EnvSpec(BeamRider-ramDeterministic-v4), EnvSpec(StarGunner-v0), EnvSpec(Gravitar-ramDeterministic-v0), EnvSpec(PrivateEyeNoFrameskip-v0), EnvSpec(AmidarDeterministic-v0), EnvSpec(NameThisGame-ramNoFrameskip-v0), EnvSpec(Amidar-ramDeterministic-v4), EnvSpec(AssaultDeterministic-v0), EnvSpec(ElevatorAction-v4), EnvSpec(Freeway-ram-v0), EnvSpec(SpaceInvaders-ramDeterministic-v4), EnvSpec(Berzerk-ramDeterministic-v4), EnvSpec(Solaris-ramDeterministic-v4), EnvSpec(Go9x9-v0), EnvSpec(Skiing-ramDeterministic-v4), EnvSpec(BattleZoneNoFrameskip-v4), EnvSpec(VentureNoFrameskip-v0), EnvSpec(FrozenLake8x8-v0), EnvSpec(StarGunner-ram-v4), EnvSpec(FishingDerby-ramDeterministic-v4), EnvSpec(DoubleDunk-ram-v4), EnvSpec(Pitfall-ramDeterministic-v4), EnvSpec(BeamRiderDeterministic-v0), EnvSpec(FishingDerbyDeterministic-v0), EnvSpec(Enduro-ram-v4), EnvSpec(MontezumaRevenge-ramDeterministic-v4), EnvSpec(ChopperCommand-ramNoFrameskip-v0), EnvSpec(Riverraid-ramNoFrameskip-v0), EnvSpec(NameThisGame-ram-v0), EnvSpec(SkiingNoFrameskip-v0), EnvSpec(Alien-ramDeterministic-v4), EnvSpec(BankHeist-ramNoFrameskip-v4), EnvSpec(TimePilotNoFrameskip-v4), EnvSpec(AmidarNoFrameskip-v0), EnvSpec(Solaris-ramNoFrameskip-v4), EnvSpec(BeamRiderNoFrameskip-v4), EnvSpec(SpaceInvadersNoFrameskip-v4), EnvSpec(Alien-ram-v0), EnvSpec(Pendulum-v0), EnvSpec(ChopperCommand-ram-v0), EnvSpec(Phoenix-ramDeterministic-v0), EnvSpec(AsterixDeterministic-v0), EnvSpec(FreewayNoFrameskip-v4), EnvSpec(Boxing-ram-v4), EnvSpec(AssaultDeterministic-v4), EnvSpec(Carnival-v0), EnvSpec(Skiing-v0), EnvSpec(BattleZoneDeterministic-v0), EnvSpec(Assault-ramNoFrameskip-v0), EnvSpec(Boxing-ramNoFrameskip-v0), EnvSpec(Tennis-ram-v0), EnvSpec(BoxingDeterministic-v0), EnvSpec(CrazyClimber-ram-v0), EnvSpec(TimePilot-ram-v4), EnvSpec(Pitfall-ram-v4), EnvSpec(UpNDownDeterministic-v4), EnvSpec(Centipede-v0), EnvSpec(TimePilot-ramDeterministic-v4), EnvSpec(Pooyan-ramNoFrameskip-v0), EnvSpec(SolarisDeterministic-v0), EnvSpec(RiverraidDeterministic-v0), EnvSpec(StarGunner-ramDeterministic-v4), EnvSpec(Berzerk-ramDeterministic-v0), EnvSpec(Frostbite-ram-v0), EnvSpec(QbertNoFrameskip-v0), EnvSpec(Jamesbond-ram-v0), EnvSpec(Venture-v0), EnvSpec(Atlantis-v0), EnvSpec(Qbert-ramDeterministic-v0), EnvSpec(BankHeist-ramNoFrameskip-v0), EnvSpec(Assault-ramNoFrameskip-v4), EnvSpec(FreewayDeterministic-v0), EnvSpec(Breakout-ramNoFrameskip-v4), EnvSpec(BeamRider-v4), EnvSpec(CrazyClimber-v4), EnvSpec(Go19x19-v0), EnvSpec(Pong-ram-v0), EnvSpec(JourneyEscape-ram-v4), EnvSpec(JourneyEscapeNoFrameskip-v4), EnvSpec(Centipede-ramDeterministic-v4), EnvSpec(Asteroids-ramDeterministic-v4), EnvSpec(Alien-ram-v4), EnvSpec(AtlantisNoFrameskip-v0), EnvSpec(ZaxxonNoFrameskip-v0), EnvSpec(Alien-v0), EnvSpec(NameThisGame-ramDeterministic-v4), EnvSpec(CarnivalDeterministic-v0), EnvSpec(MontezumaRevenge-v4), EnvSpec(BerzerkDeterministic-v0), EnvSpec(Hero-ram-v4), EnvSpec(YarsRevenge-ramNoFrameskip-v0), EnvSpec(BerzerkDeterministic-v4), EnvSpec(YarsRevengeDeterministic-v4), EnvSpec(Krull-ramNoFrameskip-v4), EnvSpec(BankHeist-ram-v0), EnvSpec(JourneyEscapeDeterministic-v0), EnvSpec(Enduro-ramDeterministic-v0), EnvSpec(Seaquest-v0), EnvSpec(Freeway-ram-v4), EnvSpec(HeroNoFrameskip-v0), EnvSpec(PrivateEye-ramNoFrameskip-v0), EnvSpec(Boxing-ramDeterministic-v4), EnvSpec(WizardOfWorNoFrameskip-v0), EnvSpec(Frostbite-v0), EnvSpec(TimePilot-ramDeterministic-v0), EnvSpec(Tutankham-ram-v4), EnvSpec(Amidar-ramNoFrameskip-v4), EnvSpec(IceHockey-ramNoFrameskip-v0), EnvSpec(RoadRunnerNoFrameskip-v4), EnvSpec(CentipedeNoFrameskip-v4), EnvSpec(Enduro-ramDeterministic-v4), EnvSpec(UpNDown-ramDeterministic-v4), EnvSpec(Pong-ramDeterministic-v4), EnvSpec(Skiing-v4), EnvSpec(BowlingDeterministic-v4), EnvSpec(SeaquestNoFrameskip-v4), EnvSpec(DemonAttack-ramDeterministic-v0), EnvSpec(KungFuMasterDeterministic-v0), EnvSpec(Seaquest-ramDeterministic-v0), EnvSpec(MsPacman-ram-v4), EnvSpec(Boxing-ramDeterministic-v0), EnvSpec(NameThisGameDeterministic-v4), EnvSpec(VideoPinballDeterministic-v0), EnvSpec(VideoPinball-ram-v0), EnvSpec(GopherNoFrameskip-v4), EnvSpec(OneRoundNondeterministicReward-v0), EnvSpec(WizardOfWor-ram-v0), EnvSpec(UpNDownNoFrameskip-v0), EnvSpec(BeamRider-ram-v4), EnvSpec(DemonAttackDeterministic-v0), EnvSpec(GravitarNoFrameskip-v4), EnvSpec(Frostbite-ramNoFrameskip-v4), EnvSpec(Reverse-v0), EnvSpec(UpNDown-v0), EnvSpec(ElevatorActionNoFrameskip-v0), EnvSpec(Gopher-ram-v0), EnvSpec(Krull-ramNoFrameskip-v0), EnvSpec(Phoenix-v0), EnvSpec(Tennis-v0), EnvSpec(Boxing-v4), EnvSpec(Amidar-ram-v4), EnvSpec(Bowling-ramNoFrameskip-v4), EnvSpec(GravitarDeterministic-v4), EnvSpec(FishingDerbyDeterministic-v4), EnvSpec(KungFuMaster-ram-v4), EnvSpec(VentureNoFrameskip-v4), EnvSpec(Swimmer-v1), EnvSpec(Skiing-ramNoFrameskip-v4), EnvSpec(MontezumaRevenge-ram-v4), EnvSpec(RoadRunnerNoFrameskip-v0), EnvSpec(AlienDeterministic-v0), EnvSpec(NameThisGame-v4), EnvSpec(Tennis-ramDeterministic-v0), EnvSpec(Seaquest-ramNoFrameskip-v0), EnvSpec(StarGunnerNoFrameskip-v0), EnvSpec(Pitfall-ramNoFrameskip-v0), EnvSpec(Assault-ram-v0), EnvSpec(Amidar-ramDeterministic-v0), EnvSpec(YarsRevengeNoFrameskip-v4), EnvSpec(EnduroNoFrameskip-v0), EnvSpec(Alien-ramDeterministic-v0), EnvSpec(DoubleDunk-ram-v0), EnvSpec(MontezumaRevenge-ramNoFrameskip-v0), EnvSpec(JamesbondDeterministic-v4), EnvSpec(ReversedAddition-v0), EnvSpec(QbertNoFrameskip-v4), EnvSpec(Gopher-ramDeterministic-v0), EnvSpec(Asteroids-v0), EnvSpec(BowlingNoFrameskip-v0), EnvSpec(StarGunner-v4), EnvSpec(Pooyan-ram-v4), EnvSpec(CrazyClimber-ramDeterministic-v0), EnvSpec(DoubleDunk-ramDeterministic-v4), EnvSpec(ElevatorAction-ramDeterministic-v0), EnvSpec(Phoenix-ram-v4), EnvSpec(AlienNoFrameskip-v4), EnvSpec(BankHeist-ramDeterministic-v4), EnvSpec(Pitfall-v0), EnvSpec(UpNDown-ramDeterministic-v0), EnvSpec(Gravitar-v0), EnvSpec(KungFuMaster-ram-v0), EnvSpec(BreakoutDeterministic-v4), EnvSpec(Seaquest-ram-v4), EnvSpec(CrazyClimber-ram-v4), EnvSpec(AsterixNoFrameskip-v0), EnvSpec(BankHeist-ramDeterministic-v0), EnvSpec(FrozenLake-v0), EnvSpec(MontezumaRevengeDeterministic-v4), EnvSpec(VideoPinball-v4), EnvSpec(NChain-v0), EnvSpec(Robotank-ram-v4), EnvSpec(OneRoundDeterministicReward-v0), EnvSpec(PredictActionsCartpole-v0), EnvSpec(HeroNoFrameskip-v4), EnvSpec(Bowling-ramDeterministic-v4), EnvSpec(DemonAttack-ram-v4), EnvSpec(VideoPinball-ramNoFrameskip-v4), EnvSpec(CNNClassifierTraining-v0), EnvSpec(MsPacman-ramNoFrameskip-v0), EnvSpec(Amidar-v4), EnvSpec(ZaxxonDeterministic-v4), EnvSpec(KungFuMaster-v0), EnvSpec(BeamRider-ram-v0), EnvSpec(PooyanDeterministic-v0), EnvSpec(CentipedeDeterministic-v0), EnvSpec(CrazyClimber-v0), EnvSpec(Centipede-ramNoFrameskip-v4), EnvSpec(YarsRevengeDeterministic-v0), EnvSpec(CentipedeNoFrameskip-v0), EnvSpec(RobotankDeterministic-v4), EnvSpec(BerzerkNoFrameskip-v0), EnvSpec(BeamRiderDeterministic-v4), EnvSpec(Bowling-ram-v4), EnvSpec(AirRaid-v4), EnvSpec(StarGunnerDeterministic-v0), EnvSpec(NameThisGame-ramDeterministic-v0), EnvSpec(GopherNoFrameskip-v0), EnvSpec(DemonAttack-ramNoFrameskip-v4), EnvSpec(FishingDerby-ramDeterministic-v0), EnvSpec(WizardOfWorDeterministic-v0), EnvSpec(ChopperCommandNoFrameskip-v0), EnvSpec(Assault-ram-v4), EnvSpec(ElevatorAction-ram-v4), EnvSpec(Robotank-ramDeterministic-v4), EnvSpec(Pong-ramNoFrameskip-v0), EnvSpec(Carnival-ram-v4), EnvSpec(BattleZone-v4), EnvSpec(Phoenix-ramNoFrameskip-v4), EnvSpec(RoadRunnerDeterministic-v4), EnvSpec(Enduro-ramNoFrameskip-v4), EnvSpec(BreakoutNoFrameskip-v0), EnvSpec(PhoenixNoFrameskip-v0), EnvSpec(WizardOfWor-v0), EnvSpec(RoadRunner-v4), EnvSpec(Solaris-ramNoFrameskip-v0), EnvSpec(FrostbiteDeterministic-v4), EnvSpec(Asteroids-ram-v4), EnvSpec(IceHockey-ramNoFrameskip-v4), EnvSpec(Walker2d-v1), EnvSpec(Kangaroo-v0), EnvSpec(Carnival-ramNoFrameskip-v0), EnvSpec(SpaceInvaders-ram-v0), EnvSpec(BeamRider-v0), EnvSpec(IceHockeyDeterministic-v4), EnvSpec(Ant-v1), EnvSpec(AssaultNoFrameskip-v4), EnvSpec(Berzerk-ram-v0), EnvSpec(VideoPinball-ram-v4), EnvSpec(BankHeistNoFrameskip-v4), EnvSpec(BipedalWalkerHardcore-v2), EnvSpec(Hex9x9-v0), EnvSpec(MsPacman-ramDeterministic-v0), EnvSpec(Hero-v0), EnvSpec(ChopperCommand-v4), EnvSpec(Kangaroo-ram-v4), EnvSpec(AirRaid-ramDeterministic-v0), EnvSpec(BipedalWalker-v2), EnvSpec(NameThisGameNoFrameskip-v4), EnvSpec(Amidar-ramNoFrameskip-v0), EnvSpec(HeroDeterministic-v4), EnvSpec(Seaquest-ram-v0), EnvSpec(Gravitar-ram-v0), EnvSpec(Tutankham-ramDeterministic-v0), EnvSpec(PrivateEye-ramDeterministic-v4), EnvSpec(Riverraid-ramNoFrameskip-v4), EnvSpec(AtlantisDeterministic-v4), EnvSpec(Assault-ramDeterministic-v4), EnvSpec(Atlantis-ramNoFrameskip-v0), EnvSpec(KungFuMaster-ramDeterministic-v0), EnvSpec(Tennis-v4), EnvSpec(ElevatorAction-ramNoFrameskip-v0), EnvSpec(UpNDown-ramNoFrameskip-v0), EnvSpec(BowlingNoFrameskip-v4), EnvSpec(TennisNoFrameskip-v0), EnvSpec(LunarLander-v2), EnvSpec(BankHeist-v0), EnvSpec(Tutankham-v4), EnvSpec(PhoenixDeterministic-v0), EnvSpec(Asterix-v0), EnvSpec(Tennis-ramNoFrameskip-v0), EnvSpec(BattleZone-ramNoFrameskip-v0), EnvSpec(Phoenix-ramNoFrameskip-v0), EnvSpec(BattleZoneDeterministic-v4), EnvSpec(InvertedDoublePendulum-v1), EnvSpec(QbertDeterministic-v4), EnvSpec(RoadRunner-ram-v4), EnvSpec(JourneyEscape-ramDeterministic-v4), EnvSpec(FishingDerby-v0), EnvSpec(AsteroidsNoFrameskip-v4), EnvSpec(YarsRevengeNoFrameskip-v0), EnvSpec(TennisDeterministic-v0), EnvSpec(Pooyan-v4), EnvSpec(Centipede-ramDeterministic-v0), EnvSpec(Phoenix-v4), EnvSpec(KrullDeterministic-v4), EnvSpec(HumanoidStandup-v1), EnvSpec(SpaceInvaders-ramNoFrameskip-v4), EnvSpec(NameThisGameNoFrameskip-v0), EnvSpec(Carnival-ramDeterministic-v4), EnvSpec(AsteroidsDeterministic-v4), EnvSpec(StarGunnerDeterministic-v4), EnvSpec(StarGunner-ramNoFrameskip-v0), EnvSpec(Venture-ramNoFrameskip-v0), EnvSpec(KungFuMasterNoFrameskip-v4), EnvSpec(Berzerk-v4), EnvSpec(IceHockeyNoFrameskip-v0), EnvSpec(Krull-ram-v4), EnvSpec(PrivateEye-ram-v0), EnvSpec(Reacher-v1), EnvSpec(RoadRunner-ramDeterministic-v0), EnvSpec(Blackjack-v0), EnvSpec(AmidarDeterministic-v4), EnvSpec(ElevatorAction-ramNoFrameskip-v4), EnvSpec(Gravitar-ram-v4), EnvSpec(MontezumaRevenge-v0), EnvSpec(KangarooNoFrameskip-v0), EnvSpec(Freeway-ramNoFrameskip-v4), EnvSpec(Riverraid-ramDeterministic-v0), EnvSpec(KungFuMaster-ramNoFrameskip-v0), EnvSpec(KellyCoinflipGeneralized-v0), EnvSpec(UpNDown-v4), EnvSpec(GravitarDeterministic-v0), EnvSpec(Tutankham-v0), EnvSpec(IceHockey-v4), EnvSpec(Pitfall-ramDeterministic-v0), EnvSpec(KrullDeterministic-v0)])\n"
     ]
    }
   ],
   "source": [
    "pprint(gym.envs.registry.all())"
   ]
  },
  {
   "cell_type": "code",
   "execution_count": 143,
   "metadata": {
    "collapsed": false
   },
   "outputs": [],
   "source": [
    "env = gym.make('FrozenLake-v0')"
   ]
  },
  {
   "cell_type": "code",
   "execution_count": 159,
   "metadata": {
    "collapsed": false
   },
   "outputs": [
    {
     "data": {
      "text/plain": [
       "(Discrete(4), Discrete(16))"
      ]
     },
     "execution_count": 159,
     "metadata": {},
     "output_type": "execute_result"
    }
   ],
   "source": [
    "env.action_space, env.observation_space"
   ]
  },
  {
   "cell_type": "code",
   "execution_count": 160,
   "metadata": {
    "collapsed": false
   },
   "outputs": [],
   "source": [
    "# type(env.action_space)"
   ]
  },
  {
   "cell_type": "code",
   "execution_count": 157,
   "metadata": {
    "collapsed": false
   },
   "outputs": [],
   "source": [
    "# dir(env.action_space)"
   ]
  },
  {
   "cell_type": "code",
   "execution_count": 156,
   "metadata": {
    "collapsed": false
   },
   "outputs": [],
   "source": [
    "# env.action_space.n"
   ]
  },
  {
   "cell_type": "code",
   "execution_count": 154,
   "metadata": {
    "collapsed": false
   },
   "outputs": [],
   "source": [
    "# env.observation_space.sample()"
   ]
  },
  {
   "cell_type": "code",
   "execution_count": 152,
   "metadata": {
    "collapsed": false
   },
   "outputs": [],
   "source": [
    "# env.observation_space.low, env.observation_space.high"
   ]
  },
  {
   "cell_type": "code",
   "execution_count": 128,
   "metadata": {
    "collapsed": false
   },
   "outputs": [],
   "source": [
    "# env.action_space.low, env.action_space.high"
   ]
  },
  {
   "cell_type": "code",
   "execution_count": 129,
   "metadata": {
    "collapsed": true
   },
   "outputs": [],
   "source": [
    "# goal \n",
    "# make a classic q-learning algorithm that runs on this environment\n",
    "# then gradually expands to try all other algorithms studied\n",
    "# make a common interface to my algorithms, so I can just load them in and interact with the environment\n",
    "# two common interfaces should make for simple code to perform the interactions\n",
    "        "
   ]
  },
  {
   "cell_type": "code",
   "execution_count": null,
   "metadata": {
    "collapsed": true
   },
   "outputs": [],
   "source": [
    "# program discrete cases\n",
    "# then apply to continuous\n",
    "# should be generic enough to cover all cases\n",
    "# parametrizations need to be parameters\n",
    "\n",
    "# there is an important distinction between observation and state that OpenAI gym observers\n",
    "# not sure I need to observe in my case\n",
    "# anyway, I act on current state not on observation"
   ]
  },
  {
   "cell_type": "code",
   "execution_count": 379,
   "metadata": {
    "collapsed": false
   },
   "outputs": [],
   "source": [
    "def plot_rewards(ts, smoothing=0):\n",
    "    smoothing = min(1, smoothing)\n",
    "    window = max(1, int(len(ts)*smoothing))\n",
    "    ts = pd.Series(ts).rolling(window).mean()\n",
    "    plt.plot(ts)"
   ]
  },
  {
   "cell_type": "code",
   "execution_count": 350,
   "metadata": {
    "collapsed": true
   },
   "outputs": [],
   "source": [
    "\n",
    "from gym import spaces\n",
    "class RLAgent():\n",
    "    \n",
    "    def __init__(self, env):\n",
    "        \n",
    "        # define limits for continuous case and n for discrete case        \n",
    "        if type(env.action_space) != spaces.discrete.Discrete:\n",
    "            self.action_discrete = False\n",
    "            self.action_high = env.action_space.low \n",
    "            self.action_low = env.action_space.high\n",
    "        else:\n",
    "            self.action_discrete = True\n",
    "            self.action_range = env.action_space.n\n",
    "\n",
    "        if type(env.observation_space) != spaces.discrete.Discrete:\n",
    "            self.observation_discrete = False\n",
    "            self.observation_high = env.observation_space.low \n",
    "            self.observation_low = env.observation_space.high\n",
    "        else:\n",
    "            self.observation_discrete = True\n",
    "            self.observation_range = env.observation_space.n\n",
    "        \n",
    "        # keep track of metrics\n",
    "        self.total_reward = 0\n",
    "        self.rewards_per_episode = []\n",
    "        \n",
    "    def reset(self):\n",
    "        self.rewards_per_episode.append(self.total_reward)\n",
    "        self.total_reward= 0\n",
    "\n",
    "    def act(self, current_state):\n",
    "        if self.action_discrete:\n",
    "            return np.random.randint(self.action_range)        \n",
    "        \n",
    "    def learn(self, obs, reward, done):\n",
    "        pass\n",
    "    \n",
    "    def total_rewards(self):\n",
    "        return sum(self.rewards)\n",
    "\n",
    "\n",
    "class QLearning(RLAgent):\n",
    "    \n",
    "    def __init__(self,env, qtable_default=0, learning_rate = 0.1, exploration_rate = 0.1, \n",
    "                 epsilon_decay = True, epsilon_decay_func= lambda x: x*.99,\n",
    "                 discount_factor=0.9, \n",
    "                 alpha_decay=False, alpha_decay_func = lambda x: x*.99):\n",
    "        RLAgent.__init__(self, env)\n",
    "        if self.action_discrete and self.observation_discrete:\n",
    "            # init qtable with the default value for qtable\n",
    "            # set to higher than 0 for optimistic initialization\n",
    "            self.qtable={}\n",
    "            for obs in range(self.observation_range):\n",
    "                self.qtable[obs] = {}\n",
    "                for action in range(self.action_range):\n",
    "                    self.qtable[obs][action] = qtable_default\n",
    "        else:\n",
    "            raise TypeError(\"Environment not discrete.\")\n",
    "            \n",
    "        self.learning_rate = learning_rate\n",
    "        self.exploration_rate = exploration_rate\n",
    "        self.epsilon_decay = epsilon_decay\n",
    "        self.epsilon_decay_func = epsilon_decay_func\n",
    "        self.discount_factor = discount_factor\n",
    "        \n",
    "    # learn and act are separate steps\n",
    "    # act is just getting the argmax of qtable\n",
    "\n",
    "    \n",
    "    def reset(self):\n",
    "        RLAgent.reset(self)\n",
    "        \n",
    "        # if set to decay, decay exploration rate according to predefined decay function\n",
    "        # don't decay during planning, since it is only look ahead\n",
    "        if self.epsilon_decay:\n",
    "            self.exploration_rate = self.epsilon_decay_func(self.exploration_rate)\n",
    "            \n",
    "        if self.alpha_decay:\n",
    "            self.learning_rate = self.alpha_decay_func(self.learning_rate)\n",
    "\n",
    "    def act(self, state, look_ahead=False):        \n",
    "        \"\"\" Runs argmax on qtable to define next best action \"\"\"\n",
    "    \n",
    "        # select randomly according to a fixed exploration rate\n",
    "        if np.random.rand() < self.exploration_rate and not look_ahead:\n",
    "            action = np.random.randint(self.action_range)\n",
    "        \n",
    "        else:\n",
    "            # select all possible actions\n",
    "            possible_actions = list(self.qtable[state].items())\n",
    "\n",
    "            # shuffle before sorting, to ensure randomness in case of tie\n",
    "            np.random.shuffle(possible_actions)\n",
    "            action = sorted(possible_actions, key=lambda x:-x[1])[0][0]\n",
    "            \n",
    "        return action\n",
    "    \n",
    "    def learn(self, prev_state, prev_action, next_state, reward, done):\n",
    "        \"\"\" Update qtable. Does not return anything. \n",
    "            Independent from agent's current state, except for qtable\n",
    "        \"\"\"\n",
    "        \n",
    "        # update reward count\n",
    "        self.total_reward += reward\n",
    "        \n",
    "        if not done:        \n",
    "            # select optimal action in next step, calc td target based on it\n",
    "            next_action = self.act(next_state, look_ahead=True)\n",
    "            td_target = reward + self.discount_factor * self.qtable[next_state][next_action]\n",
    "            \n",
    "        else:\n",
    "            # if final state, td target equals rewards\n",
    "            td_target = reward            \n",
    "            \n",
    "        # update q-table\n",
    "        td_error = td_target - self.qtable[prev_state][prev_action]\n",
    "        self.qtable[prev_state][prev_action] += self.learning_rate * td_error \n",
    "        \n",
    "    "
   ]
  },
  {
   "cell_type": "code",
   "execution_count": 417,
   "metadata": {
    "collapsed": false
   },
   "outputs": [
    {
     "name": "stdout",
     "output_type": "stream",
     "text": [
      "0.11288\n"
     ]
    }
   ],
   "source": [
    "# env.reset()\n",
    "# env.render()\n",
    "# observation, reward, done, info = env.step(action)\n",
    "\n",
    "agent = QLearning(env, learning_rate =0.01, discount_factor=0.9, \n",
    "                  exploration_rate=1,\n",
    "                 epsilon_decay_func = lambda x: x*0.99)\n",
    "episodes = int(1e5)\n",
    "for _ in range(episodes):\n",
    "    prev_obs = env.reset()\n",
    "    agent.reset()\n",
    "    done = False\n",
    "    steps =0    \n",
    "    while not done:\n",
    "        steps+=1\n",
    "        # env.render()\n",
    "        action = agent.act(prev_obs)\n",
    "        next_obs, reward, done, info = env.step(action)\n",
    "        agent.learn(prev_obs, action, next_obs, reward, done)\n",
    "        prev_obs = next_obs\n",
    "    \n",
    "print(np.mean(agent.rewards_per_episode))"
   ]
  },
  {
   "cell_type": "code",
   "execution_count": 418,
   "metadata": {
    "collapsed": false
   },
   "outputs": [
    {
     "data": {
      "image/png": "[encoded data removed]",
      "text/plain": [
       "<matplotlib.figure.Figure at 0x133ce8b00>"
      ]
     },
     "metadata": {},
     "output_type": "display_data"
    }
   ],
   "source": [
    "plot_rewards(agent.rewards_per_episode, smoothing=0.1)"
   ]
  },
  {
   "cell_type": "code",
   "execution_count": null,
   "metadata": {
    "collapsed": true
   },
   "outputs": [],
   "source": []
  }
 ],
 "metadata": {
  "anaconda-cloud": {},
  "kernelspec": {
   "display_name": "Python [conda env:udacity]",
   "language": "python",
   "name": "conda-env-udacity-py"
  },
  "language_info": {
   "codemirror_mode": {
    "name": "ipython",
    "version": 3
   },
   "file_extension": ".py",
   "mimetype": "text/x-python",
   "name": "python",
   "nbconvert_exporter": "python",
   "pygments_lexer": "ipython3",
   "version": "3.5.2"
  }
 },
 "nbformat": 4,
 "nbformat_minor": 0
}
