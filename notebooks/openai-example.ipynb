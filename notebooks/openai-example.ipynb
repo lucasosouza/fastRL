{
 "cells": [
  {
   "cell_type": "code",
   "execution_count": 222,
   "metadata": {
    "collapsed": true
   },
   "outputs": [],
   "source": [
    "import gym\n",
    "import numpy as np\n",
    "import matplotlib.pyplot as plt\n",
    "from pprint import pprint\n",
    "import pandas as pd\n",
    "\n",
    "plt.figure(figsize=(20,10))\n",
    "\n",
    "%matplotlib inline"
   ]
  },
  {
   "cell_type": "code",
   "execution_count": 589,
   "metadata": {
    "collapsed": false
   },
   "outputs": [],
   "source": [
    "# pprint(gym.envs.registry.all())"
   ]
  },
  {
   "cell_type": "code",
   "execution_count": 604,
   "metadata": {
    "collapsed": false
   },
   "outputs": [],
   "source": [
    "env = gym.make('FrozenLake-v0')\n",
    "# env = gym.wrappers.Monitor(env, \"/tmp/gym-results\")"
   ]
  },
  {
   "cell_type": "code",
   "execution_count": 593,
   "metadata": {
    "collapsed": false
   },
   "outputs": [
    {
     "data": {
      "text/plain": [
       "(Discrete(4), Discrete(16))"
      ]
     },
     "execution_count": 593,
     "metadata": {},
     "output_type": "execute_result"
    }
   ],
   "source": [
    "env.action_space, env.observation_space"
   ]
  },
  {
   "cell_type": "code",
   "execution_count": 160,
   "metadata": {
    "collapsed": false
   },
   "outputs": [],
   "source": [
    "# type(env.action_space)"
   ]
  },
  {
   "cell_type": "code",
   "execution_count": 157,
   "metadata": {
    "collapsed": false
   },
   "outputs": [],
   "source": [
    "# dir(env.action_space)"
   ]
  },
  {
   "cell_type": "code",
   "execution_count": 156,
   "metadata": {
    "collapsed": false
   },
   "outputs": [],
   "source": [
    "# env.action_space.n"
   ]
  },
  {
   "cell_type": "code",
   "execution_count": 154,
   "metadata": {
    "collapsed": false
   },
   "outputs": [],
   "source": [
    "# env.observation_space.sample()"
   ]
  },
  {
   "cell_type": "code",
   "execution_count": 152,
   "metadata": {
    "collapsed": false
   },
   "outputs": [],
   "source": [
    "# env.observation_space.low, env.observation_space.high"
   ]
  },
  {
   "cell_type": "code",
   "execution_count": 128,
   "metadata": {
    "collapsed": false
   },
   "outputs": [],
   "source": [
    "# env.action_space.low, env.action_space.high"
   ]
  },
  {
   "cell_type": "code",
   "execution_count": 129,
   "metadata": {
    "collapsed": true
   },
   "outputs": [],
   "source": [
    "# goal \n",
    "# make a classic q-learning algorithm that runs on this environment\n",
    "# then gradually expands to try all other algorithms studied\n",
    "# make a common interface to my algorithms, so I can just load them in and interact with the environment\n",
    "# two common interfaces should make for simple code to perform the interactions\n",
    "        "
   ]
  },
  {
   "cell_type": "code",
   "execution_count": null,
   "metadata": {
    "collapsed": true
   },
   "outputs": [],
   "source": [
    "# program discrete cases\n",
    "# then apply to continuous\n",
    "# should be generic enough to cover all cases\n",
    "# parametrizations need to be parameters\n",
    "\n",
    "# there is an important distinction between observation and state that OpenAI gym observers\n",
    "# not sure I need to observe in my case\n",
    "# anyway, I act on current state not on observation"
   ]
  },
  {
   "cell_type": "code",
   "execution_count": 423,
   "metadata": {
    "collapsed": true
   },
   "outputs": [],
   "source": [
    "\n",
    "from gym import spaces\n",
    "class RLAgent():\n",
    "    \n",
    "    def __init__(self, env):\n",
    "        \n",
    "        # define limits for continuous case and n for discrete case        \n",
    "        if type(env.action_space) != spaces.discrete.Discrete:\n",
    "            self.action_discrete = False\n",
    "            self.action_high = env.action_space.low \n",
    "            self.action_low = env.action_space.high\n",
    "        else:\n",
    "            self.action_discrete = True\n",
    "            self.action_range = env.action_space.n\n",
    "\n",
    "        if type(env.observation_space) != spaces.discrete.Discrete:\n",
    "            self.observation_discrete = False\n",
    "            self.observation_high = env.observation_space.low \n",
    "            self.observation_low = env.observation_space.high\n",
    "        else:\n",
    "            self.observation_discrete = True\n",
    "            self.observation_range = env.observation_space.n\n",
    "        \n",
    "        # keep track of metrics\n",
    "        self.total_reward = 0\n",
    "        self.rewards_per_episode = []\n",
    "        \n",
    "    def reset(self):\n",
    "        self.rewards_per_episode.append(self.total_reward)\n",
    "        self.total_reward= 0\n",
    "\n",
    "    def act(self, current_state):\n",
    "        if self.action_discrete:\n",
    "            return np.random.randint(self.action_range)        \n",
    "        \n",
    "    def learn(self, obs, reward, done):\n",
    "        pass\n",
    "    \n",
    "    def total_rewards(self):\n",
    "        return sum(self.rewards)\n",
    "\n",
    "\n",
    "class QLearning(RLAgent):\n",
    "    \n",
    "    def __init__(self,env, qtable_default=0, learning_rate = 0.1, exploration_rate = 0.1, \n",
    "                 epsilon_decay = True, epsilon_decay_func= lambda x: x*.99,\n",
    "                 discount_factor=0.9, \n",
    "                 alpha_decay=True, alpha_decay_func = lambda x: x*.999):\n",
    "        RLAgent.__init__(self, env)\n",
    "        if self.action_discrete and self.observation_discrete:\n",
    "            # init qtable with the default value for qtable\n",
    "            # set to higher than 0 for optimistic initialization\n",
    "            self.qtable={}\n",
    "            for obs in range(self.observation_range):\n",
    "                self.qtable[obs] = {}\n",
    "                for action in range(self.action_range):\n",
    "                    self.qtable[obs][action] = qtable_default\n",
    "        else:\n",
    "            raise TypeError(\"Environment not discrete.\")\n",
    "            \n",
    "        self.learning_rate = learning_rate\n",
    "        self.exploration_rate = exploration_rate\n",
    "        self.epsilon_decay = epsilon_decay\n",
    "        self.epsilon_decay_func = epsilon_decay_func\n",
    "        self.alpha_decay = alpha_decay\n",
    "        self.alpha_decay_func = alpha_decay_func\n",
    "        self.discount_factor = discount_factor\n",
    "                \n",
    "    # learn and act are separate steps\n",
    "    # act is just getting the argmax of qtable\n",
    "\n",
    "    \n",
    "    def reset(self):\n",
    "        RLAgent.reset(self)\n",
    "        \n",
    "        # if set to decay, decay exploration rate according to predefined decay function\n",
    "        # don't decay during planning, since it is only look ahead\n",
    "        if self.epsilon_decay:\n",
    "            self.exploration_rate = self.epsilon_decay_func(self.exploration_rate)\n",
    "            \n",
    "        if self.alpha_decay:\n",
    "            self.learning_rate = self.alpha_decay_func(self.learning_rate)\n",
    "\n",
    "    def act(self, state, look_ahead=False):        \n",
    "        \"\"\" Runs argmax on qtable to define next best action \"\"\"\n",
    "    \n",
    "        # select randomly according to a fixed exploration rate\n",
    "        if np.random.rand() < self.exploration_rate and not look_ahead:\n",
    "            action = np.random.randint(self.action_range)\n",
    "        \n",
    "        else:\n",
    "            # select all possible actions\n",
    "            possible_actions = list(self.qtable[state].items())\n",
    "\n",
    "            # shuffle before sorting, to ensure randomness in case of tie\n",
    "            np.random.shuffle(possible_actions)\n",
    "            action = sorted(possible_actions, key=lambda x:-x[1])[0][0]\n",
    "            \n",
    "        return action\n",
    "    \n",
    "    def learn(self, prev_state, prev_action, next_state, reward, done):\n",
    "        \"\"\" Update qtable. Does not return anything. \n",
    "            Independent from agent's current state, except for qtable\n",
    "        \"\"\"\n",
    "        \n",
    "        # update reward count\n",
    "        self.total_reward += reward\n",
    "        \n",
    "        if not done:        \n",
    "            # select optimal action in next step, calc td target based on it\n",
    "            next_action = self.act(next_state, look_ahead=True)\n",
    "            td_target = reward + self.discount_factor * self.qtable[next_state][next_action]\n",
    "            \n",
    "        else:\n",
    "            # if final state, td target equals rewards\n",
    "            td_target = reward            \n",
    "            \n",
    "        # update q-table\n",
    "        td_error = td_target - self.qtable[prev_state][prev_action]\n",
    "        self.qtable[prev_state][prev_action] += self.learning_rate * td_error \n",
    "        \n",
    "    "
   ]
  },
  {
   "cell_type": "code",
   "execution_count": 583,
   "metadata": {
    "collapsed": false
   },
   "outputs": [],
   "source": [
    "def plot_rewards(ts, smoothing=0):\n",
    "    smoothing = min(1, smoothing)\n",
    "    window = max(1, int(len(ts)*smoothing))\n",
    "    ts = pd.Series(ts).rolling(window).mean()\n",
    "    plt.plot(ts)\n",
    "    plt.axhline(y=0.78, linewidth=1, color='r', linestyle='dashed')\n"
   ]
  },
  {
   "cell_type": "code",
   "execution_count": 599,
   "metadata": {
    "collapsed": false
   },
   "outputs": [
    {
     "name": "stdout",
     "output_type": "stream",
     "text": [
      "0.583\n"
     ]
    }
   ],
   "source": [
    "# env.reset()\n",
    "# env.render()\n",
    "# observation, reward, done, info = env.step(action)\n",
    "\n",
    "episodes = int(1e3)\n",
    "epsilon_decay = 1-(1/episodes)*6\n",
    "learning_decay = 1-(1/episodes)*3\n",
    "agent = QLearning(env, learning_rate =0.5, discount_factor=0.9, \n",
    "                  exploration_rate=0,\n",
    "                  epsilon_decay_func = lambda x: x*epsilon_decay,\n",
    "                  alpha_decay_func = lambda x: x*learning_decay,\n",
    "                  qtable_default=1\n",
    "                 )\n",
    "for _ in range(episodes):\n",
    "    prev_obs = env.reset()\n",
    "    agent.reset()\n",
    "    done = False\n",
    "    steps =0    \n",
    "    while not done:\n",
    "        steps+=1\n",
    "        # env.render()\n",
    "        action = agent.act(prev_obs)\n",
    "        next_obs, reward, done, info = env.step(action)\n",
    "        agent.learn(prev_obs, action, next_obs, reward, done)\n",
    "        prev_obs = next_obs\n",
    "    \n",
    "print(np.mean(agent.rewards_per_episode))"
   ]
  },
  {
   "cell_type": "code",
   "execution_count": 600,
   "metadata": {
    "collapsed": false
   },
   "outputs": [
    {
     "data": {
      "image/png": "[encoded data removed]",
      "text/plain": [
       "<matplotlib.figure.Figure at 0x13a5a6fd0>"
      ]
     },
     "metadata": {},
     "output_type": "display_data"
    }
   ],
   "source": [
    "plot_rewards(agent.rewards_per_episode, smoothing=0.1)"
   ]
  },
  {
   "cell_type": "code",
   "execution_count": 602,
   "metadata": {
    "collapsed": true
   },
   "outputs": [],
   "source": [
    "env.close()"
   ]
  },
  {
   "cell_type": "code",
   "execution_count": 515,
   "metadata": {
    "collapsed": true
   },
   "outputs": [],
   "source": [
    "# Fixed exploration rate decay and learning rate decay according to number of episodes\n",
    "# fixed the problem of not converging\n",
    "# but still taking 10000 episodes to reach expected levels\n",
    "# can probably reduce episodes and adjust rates accordingly"
   ]
  },
  {
   "cell_type": "code",
   "execution_count": 521,
   "metadata": {
    "collapsed": false
   },
   "outputs": [
    {
     "data": {
      "text/plain": [
       "[<matplotlib.lines.Line2D at 0x140cf7780>]"
      ]
     },
     "execution_count": 521,
     "metadata": {},
     "output_type": "execute_result"
    },
    {
     "data": {
      "image/png": "[encoded data removed]",
      "text/plain": [
       "<matplotlib.figure.Figure at 0x140bfb5f8>"
      ]
     },
     "metadata": {},
     "output_type": "display_data"
    }
   ],
   "source": [
    "ts = []\n",
    "lr = .5\n",
    "episodes = int(1e3)\n",
    "decay = 1-(1/episodes)*3\n",
    "for _ in range(episodes):\n",
    "    ts.append(lr)\n",
    "    lr = lr*decay\n",
    "\n",
    "plt.plot(ts)"
   ]
  },
  {
   "cell_type": "code",
   "execution_count": 518,
   "metadata": {
    "collapsed": false
   },
   "outputs": [
    {
     "data": {
      "text/plain": [
       "[<matplotlib.lines.Line2D at 0x1409a6940>]"
      ]
     },
     "execution_count": 518,
     "metadata": {},
     "output_type": "execute_result"
    },
    {
     "data": {
      "image/png": "[encoded data removed]",
      "text/plain": [
       "<matplotlib.figure.Figure at 0x13dbe1780>"
      ]
     },
     "metadata": {},
     "output_type": "display_data"
    }
   ],
   "source": [
    "ts = []\n",
    "lr = .8\n",
    "episodes = int(1e3)\n",
    "decay = 1-(1/episodes)*6\n",
    "for _ in range(episodes):\n",
    "    ts.append(lr)\n",
    "    lr = lr*decay\n",
    "\n",
    "plt.plot(ts)"
   ]
  },
  {
   "cell_type": "code",
   "execution_count": null,
   "metadata": {
    "collapsed": true
   },
   "outputs": [],
   "source": [
    "# good strategy\n",
    "agent = QLearning(env, learning_rate =0.5, discount_factor=0.9, \n",
    "                  exploration_rate=0.8,\n",
    "                  epsilon_decay_func = lambda x: x*.9992,\n",
    "                  alpha_decay_func = lambda x: x*.9994\n",
    "                 )\n",
    "episodes = int(1e4)\n"
   ]
  }
 ],
 "metadata": {
  "anaconda-cloud": {},
  "kernelspec": {
   "display_name": "Python [conda env:udacity]",
   "language": "python",
   "name": "conda-env-udacity-py"
  },
  "language_info": {
   "codemirror_mode": {
    "name": "ipython",
    "version": 3
   },
   "file_extension": ".py",
   "mimetype": "text/x-python",
   "name": "python",
   "nbconvert_exporter": "python",
   "pygments_lexer": "ipython3",
   "version": "3.5.2"
  }
 },
 "nbformat": 4,
 "nbformat_minor": 0
}
